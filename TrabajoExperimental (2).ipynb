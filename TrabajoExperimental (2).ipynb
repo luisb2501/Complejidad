{
  "nbformat": 4,
  "nbformat_minor": 0,
  "metadata": {
    "colab": {
      "name": "TrabajoExperimental.ipynb",
      "provenance": [],
      "toc_visible": true
    },
    "kernelspec": {
      "name": "python3",
      "display_name": "Python 3"
    },
    "language_info": {
      "name": "python"
    }
  },
  "cells": [
    {
      "cell_type": "code",
      "execution_count": null,
      "metadata": {
        "id": "W87I69hzVHby"
      },
      "outputs": [],
      "source": [
        "# Busqueda Lineal\n",
        "import random\n",
        "\n",
        "def busqueda_lineal(lista, objetivo):\n",
        "    match = False\n",
        "\n",
        "    for elemento in lista: # O(n)\n",
        "        if elemento == objetivo:\n",
        "            match = True\n",
        "            break\n",
        "\n",
        "    return match\n",
        "\n",
        "\n",
        "if __name__ == '__main__':\n",
        "    tamano_de_lista = int(input('De que tamano sera la lista? '))\n",
        "    objetivo = int(input('Que numero quieres encontrar? '))\n",
        "\n",
        "    lista = [random.randint(0, 100) for i in range(tamano_de_lista)]\n",
        "\n",
        "    encontrado = busqueda_lineal(lista, objetivo)\n",
        "    print(lista)\n",
        "    print(f'El elemento {objetivo} {\"esta\" if encontrado else \"no esta\"} en la lista')\n",
        "    \n",
        " # Busqueda Binaria\n",
        " \n",
        " import random\n",
        "\n",
        "def busqueda_binaria(lista, comienzo, final, objetivo):\n",
        "    print(f'buscando {objetivo} entre {lista[comienzo]} y {lista[final - 1]}')\n",
        "    if comienzo > final:\n",
        "        return False\n",
        "\n",
        "    medio = (comienzo + final) // 2\n",
        "\n",
        "    if lista[medio] == objetivo:\n",
        "        return True\n",
        "    elif lista[medio] < objetivo:\n",
        "        return busqueda_binaria(lista, medio + 1, final, objetivo)\n",
        "    else:\n",
        "        return busqueda_binaria(lista, comienzo, medio - 1, objetivo)\n",
        "\n",
        "\n",
        "if __name__ == '__main__':\n",
        "    tamano_de_lista = int(input('De que tamano es la lista? '))\n",
        "    objetivo = int(input('Que numero quieres encontrar? '))\n",
        "\n",
        "    lista = sorted([random.randint(0, 100) for i in range(tamano_de_lista)])\n",
        "\n",
        "    encontrado = busqueda_binaria(lista, 0, len(lista), objetivo)\n",
        "\n",
        "    print(lista)\n",
        "    print(f'El elemento {objetivo} {\"esta\" if encontrado else \"no esta\"} en la lista')\n",
        "\n",
        "\n"
      ]
    },
    {
      "cell_type": "code",
      "source": [
        "# Ordenamienti Burbuja\n",
        "\n",
        "import random\n",
        "\n",
        "\n",
        "def ordenamiento_de_burbuja(lista):\n",
        "    n = len(lista)\n",
        "\n",
        "    for i in range(n):\n",
        "        for j in range(0, n - i - 1): # O(n) * O(n) = O(n * n) = O(n**2)\n",
        "\n",
        "            if lista[j] > lista[j + 1]:\n",
        "                lista[j], lista[j + 1] = lista[j + 1], lista[j]\n",
        "\n",
        "    return lista\n",
        "\n",
        "if __name__ == '__main__':\n",
        "    tamano_de_lista = int(input('De que tamano sera la lista? '))\n",
        "\n",
        "    lista = [random.randint(0, 100) for i in range(tamano_de_lista)]\n",
        "    print(lista)\n",
        "\n",
        "    lista_ordenada = ordenamiento_de_burbuja(lista)\n",
        "    print(lista_ordenada)\n",
        "    \n",
        "    #Ordenamiento por Inserción\n",
        "    \n",
        "    def ordenamiento_por_insercion(lista):\n",
        "\n",
        "    for indice in range(1, len(lista)):\n",
        "        valor_actual = lista[indice]\n",
        "        posicion_actual = indice\n",
        "\n",
        "        while posicion_actual > 0 and lista[posicion_actual - 1] > valor_actual:\n",
        "            lista[posicion_actual] = lista[posicion_actual - 1]\n",
        "            posicion_actual -= 1\n",
        "            \n",
        "            \n",
        "# Ordenamiento por Mezcla\n",
        "\n",
        "import random\n",
        "\n",
        "def ordenamiento_por_mezcla(lista):\n",
        "    if len(lista) > 1:\n",
        "        medio = len(lista) // 2\n",
        "        izquierda = lista[:medio]\n",
        "        derecha = lista[medio:]\n",
        "        print(izquierda, '*' * 5, derecha)\n",
        "\n",
        "        # llamada recursiva en cada mitad\n",
        "        ordenamiento_por_mezcla(izquierda)\n",
        "        ordenamiento_por_mezcla(derecha)\n",
        "\n",
        "        # Iteradores para recorrer las dos sublistas\n",
        "        i = 0\n",
        "        j = 0\n",
        "        # Iterador para la lista principal\n",
        "        k = 0\n",
        "\n",
        "        while i < len(izquierda) and j < len(derecha):\n",
        "            if izquierda[i] < derecha[j]:\n",
        "                lista[k] = izquierda[i]\n",
        "                i += 1\n",
        "            else:\n",
        "                lista[k] = derecha[j]\n",
        "                j += 1\n",
        "\n",
        "            k += 1\n",
        "\n",
        "        while i < len(izquierda):\n",
        "            lista[k] = izquierda[i]\n",
        "            i += 1\n",
        "            k +=1\n",
        "\n",
        "        while j < len(derecha):\n",
        "            lista[k] = derecha[j]\n",
        "            j += 1\n",
        "            k += 1\n",
        "        \n",
        "        print(f'izquierda {izquierda}, derecha {derecha}')\n",
        "        print(lista)\n",
        "        print('-' * 50)\n",
        "\n",
        "    return lista\n",
        "\n",
        "\n",
        "if __name__ == '__main__':\n",
        "    tamano_de_lista = int(input('De que tamano sera la lista? '))\n",
        "\n",
        "    lista = [random.randint(0, 100) for i in range(tamano_de_lista)]\n",
        "    print(lista)\n",
        "    print('-' * 20)\n",
        "\n",
        "    lista_ordenada = ordenamiento_por_mezcla(lista)\n",
        "    print(lista_ordenada)\n",
        "\n",
        "        lista[posicion_actual] = valor_actual"
      ],
      "metadata": {
        "colab": {
          "base_uri": "https://localhost:8080/",
          "height": 130
        },
        "id": "4Gnl8WVnlqbf",
        "outputId": "1bdc84f9-2798-4cac-fbcf-683d656a724a"
      },
      "execution_count": 12,
      "outputs": [
        {
          "output_type": "error",
          "ename": "IndentationError",
          "evalue": "ignored",
          "traceback": [
            "\u001b[0;36m  File \u001b[0;32m\"<ipython-input-12-da6af2f489ae>\"\u001b[0;36m, line \u001b[0;32m30\u001b[0m\n\u001b[0;31m    for indice in range(1, len(lista)):\u001b[0m\n\u001b[0m      ^\u001b[0m\n\u001b[0;31mIndentationError\u001b[0m\u001b[0;31m:\u001b[0m expected an indented block\n"
          ]
        }
      ]
    },
    {
      "cell_type": "code",
      "source": [
        "#Algoritmo 1\n",
        "def fact(n):\n",
        "    product = 1\n",
        "    for i in range(n):\n",
        "        product = product * (i+1)\n",
        "    return product\n",
        "\n",
        "print (fact(5))\n",
        "#Algoritmo 2\n",
        "def fact2(n):\n",
        "    if n == 0:\n",
        "        return 1\n",
        "    else:\n",
        "        return n * fact2(n-1)\n",
        "\n",
        "print (fact2(5))\n",
        "\n",
        "#Algoritmo 1\n",
        "%timeit fact(500)\n",
        "\n",
        "#Algoritmo 2\n",
        "%timeit fact2(500)"
      ],
      "metadata": {
        "colab": {
          "base_uri": "https://localhost:8080/"
        },
        "id": "6K-X_yiYlyGW",
        "outputId": "a6190e2f-d023-4bce-ac35-6fdc8be4c2db"
      },
      "execution_count": 11,
      "outputs": [
        {
          "output_type": "stream",
          "name": "stdout",
          "text": [
            "120\n",
            "120\n",
            "10000 loops, best of 5: 87.7 µs per loop\n",
            "10000 loops, best of 5: 134 µs per loop\n"
          ]
        }
      ]
    },
    {
      "cell_type": "code",
      "source": [
        "#Complejidad Constante\n",
        "\n",
        "def constant_algo(items):\n",
        "    result = items[0] * items[0]\n",
        "    print (result)\n",
        "\n",
        "constant_algo([4, 5, 6, 8])\n",
        "\n",
        "# Gráfica\n",
        "import matplotlib.pyplot as plt\n",
        "import numpy as np\n",
        "\n",
        "x = [2, 4, 6, 8, 10, 12]\n",
        "\n",
        "y = [2, 2, 2, 2, 2, 2]\n",
        "\n",
        "plt.plot(x, y, 'b')\n",
        "plt.xlabel('Entradas')\n",
        "plt.ylabel('Pasos')\n",
        "plt.title('Complejidad Constante')\n",
        "plt.show()\n"
      ],
      "metadata": {
        "colab": {
          "base_uri": "https://localhost:8080/",
          "height": 312
        },
        "id": "JT6tHurOl7CV",
        "outputId": "40ee388f-d80f-4d92-efa4-d4327f663386"
      },
      "execution_count": 10,
      "outputs": [
        {
          "output_type": "stream",
          "name": "stdout",
          "text": [
            "16\n"
          ]
        },
        {
          "output_type": "display_data",
          "data": {
            "image/png": "[encoded data removed]",
            "text/plain": [
              "<Figure size 432x288 with 1 Axes>"
            ]
          },
          "metadata": {
            "needs_background": "light"
          }
        }
      ]
    },
    {
      "cell_type": "code",
      "source": [
        "# Complejidad Lineal \n",
        "def linear_algo(items):\n",
        "    for item in items:\n",
        "        print(item)\n",
        "        \n",
        "#Gráfica        \n",
        "import matplotlib.pyplot as plt\n",
        "import numpy as np\n",
        "\n",
        "x = [2, 4, 6, 8, 10, 12]\n",
        "\n",
        "y = [2, 4, 6, 8, 10, 12]\n",
        "\n",
        "plt.plot(x, y, 'b')\n",
        "plt.xlabel('Entradas')\n",
        "plt.ylabel('Pasos')\n",
        "\n",
        "\n",
        "def linear_algo(items):\n",
        "    for item in items:\n",
        "        print(item)\n",
        "\n",
        "    for item in items:\n",
        "        print(item)\n",
        "\n",
        "linear_algo([4, 5, 6, 8])\n",
        "plt.title('Complejidad Lineal')\n",
        "plt.show()\n",
        "linear_algo([4, 5, 6, 8])\n",
        "\n",
        "import matplotlib.pyplot as plt\n",
        "import numpy as np\n",
        "\n",
        "x = [2, 4, 6, 8, 10, 12]\n",
        "\n",
        "y = [4, 8, 12, 16, 20, 24]\n",
        "\n",
        "plt.plot(x, y, 'b')\n",
        "plt.xlabel('Entradas')\n",
        "plt.ylabel('Pasos')\n",
        "plt.title('Complejidad Lineal')\n",
        "plt.show()"
      ],
      "metadata": {
        "colab": {
          "base_uri": "https://localhost:8080/",
          "height": 850
        },
        "id": "d50YwvkImDeW",
        "outputId": "7d3c18cc-688c-46e6-feb7-f479f09087b4"
      },
      "execution_count": 9,
      "outputs": [
        {
          "output_type": "stream",
          "name": "stdout",
          "text": [
            "4\n",
            "5\n",
            "6\n",
            "8\n",
            "4\n",
            "5\n",
            "6\n",
            "8\n"
          ]
        },
        {
          "output_type": "display_data",
          "data": {
            "image/png": "[encoded data removed]",
            "text/plain": [
              "<Figure size 432x288 with 1 Axes>"
            ]
          },
          "metadata": {
            "needs_background": "light"
          }
        },
        {
          "output_type": "stream",
          "name": "stdout",
          "text": [
            "4\n",
            "5\n",
            "6\n",
            "8\n",
            "4\n",
            "5\n",
            "6\n",
            "8\n"
          ]
        },
        {
          "output_type": "display_data",
          "data": {
            "image/png": "[encoded data removed]",
            "text/plain": [
              "<Figure size 432x288 with 1 Axes>"
            ]
          },
          "metadata": {
            "needs_background": "light"
          }
        }
      ]
    },
    {
      "cell_type": "code",
      "source": [
        "#Complejidad Cuadrática\n",
        "\n",
        "def quadratic_algo(items):\n",
        "    for item in items:\n",
        "        for item2 in items:\n",
        "            print(item, ' ' ,item)\n",
        "#Complejidad de Funciones Complejas\n",
        "\n",
        "def complex_algo(items):\n",
        "\n",
        "    for i in range(5):\n",
        "        print (\"Python es fenomenal\")\n",
        "\n",
        "    for item in items:\n",
        "        print(item)\n",
        "\n",
        "    for item in items:\n",
        "        print(item)\n",
        "\n",
        "    print(\"Big O\")\n",
        "    print(\"Big O\")\n",
        "    print(\"Big O\")\n",
        "\n",
        "complex_algo([4, 5, 6, 8])\n",
        "\n",
        "#Peor vs mejor complejidad de caso\n",
        "def search_algo(num, items):\n",
        "    for item in items:\n",
        "        if item == num:\n",
        "            return True\n",
        "        else:\n",
        "            return False\n",
        "nums = [2,4,6,8,10]\n",
        "\n",
        "print(search_algo(6, nums))\n",
        "quadratic_algo([4, 5, 6, 8])\n"
      ],
      "metadata": {
        "colab": {
          "base_uri": "https://localhost:8080/"
        },
        "id": "gHawRwaOmJL5",
        "outputId": "f04cd2fe-7d50-4325-9fa6-fad19859f310"
      },
      "execution_count": 8,
      "outputs": [
        {
          "output_type": "stream",
          "name": "stdout",
          "text": [
            "Python es fenomenal\n",
            "Python es fenomenal\n",
            "Python es fenomenal\n",
            "Python es fenomenal\n",
            "Python es fenomenal\n",
            "4\n",
            "5\n",
            "6\n",
            "8\n",
            "4\n",
            "5\n",
            "6\n",
            "8\n",
            "Big O\n",
            "Big O\n",
            "Big O\n",
            "False\n",
            "4   4\n",
            "4   4\n",
            "4   4\n",
            "4   4\n",
            "5   5\n",
            "5   5\n",
            "5   5\n",
            "5   5\n",
            "6   6\n",
            "6   6\n",
            "6   6\n",
            "6   6\n",
            "8   8\n",
            "8   8\n",
            "8   8\n",
            "8   8\n"
          ]
        }
      ]
    },
    {
      "cell_type": "code",
      "source": [
        "# Complejidad Espacial\n",
        "\n",
        "def return_squares(n):\n",
        "    square_list = []\n",
        "    for num in n:\n",
        "        square_list.append(num * num)\n",
        "\n",
        "    return square_list\n",
        "\n",
        "nums = [2, 4, 6, 8, 10]\n",
        "print(return_squares(nums))"
      ],
      "metadata": {
        "colab": {
          "base_uri": "https://localhost:8080/"
        },
        "id": "UstGeCFAmNe9",
        "outputId": "a926a062-bd22-4d72-a067-2f38b393ae36"
      },
      "execution_count": 7,
      "outputs": [
        {
          "output_type": "stream",
          "name": "stdout",
          "text": [
            "[4, 16, 36, 64, 100]\n"
          ]
        }
      ]
    },
    {
      "cell_type": "code",
      "source": [
        "import time\n",
        "\n",
        "def suma_lineal(n):\n",
        "    suma = 0\n",
        "    for i in range(1, n+1):\n",
        "        suma +=i\n",
        "    return suma\n",
        "def suma_constante(n):\n",
        "    return (n/2)*(n+1)\n",
        "cantidad = 1000000\n",
        "for i in range(4):\n",
        "    t0 = time.time()\n",
        "    suma1 = suma_lineal(cantidad)\n",
        "    t1 = time.time()\n",
        "    suma2 = suma_constante(cantidad)\n",
        "    t2 = time.time()\n",
        "    print (\"{}    -    {}\".format(suma1, t1-t0))\n",
        "    print (\"{}    -    {}\".format(suma2, t2-t1))\n",
        "    cantidad *= 10"
      ],
      "metadata": {
        "colab": {
          "base_uri": "https://localhost:8080/"
        },
        "id": "0X1qNyvMmPpV",
        "outputId": "fce2f79e-9536-4f21-e439-954a7d5c6ba1"
      },
      "execution_count": 5,
      "outputs": [
        {
          "output_type": "stream",
          "name": "stdout",
          "text": [
            "500000500000    -    0.07012510299682617\n",
            "500000500000.0    -    4.5299530029296875e-06\n",
            "50000005000000    -    0.7014055252075195\n",
            "50000005000000.0    -    6.9141387939453125e-06\n",
            "5000000050000000    -    7.106886148452759\n",
            "5000000050000000.0    -    5.245208740234375e-06\n",
            "500000000500000000    -    69.9744393825531\n",
            "5.000000005e+17    -    6.4373016357421875e-06\n"
          ]
        }
      ]
    }
  ]
}